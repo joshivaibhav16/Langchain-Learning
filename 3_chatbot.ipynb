{
 "cells": [
  {
   "cell_type": "code",
   "id": "initial_id",
   "metadata": {
    "collapsed": true,
    "ExecuteTime": {
     "end_time": "2025-08-02T15:09:17.206803Z",
     "start_time": "2025-08-02T15:09:17.202513Z"
    }
   },
   "source": [
    "from langchain_community.llms import Ollama\n",
    "from typing import TypedDict, Annotated\n",
    "from langgraph.graph.message import add_messages\n",
    "\n",
    "from langgraph.graph import StateGraph\n",
    "\n",
    "# Connect to your local Ollama model\n",
    "llm = Ollama(model=\"llama3\")\n",
    "\n",
    "class State(TypedDict):\n",
    "    messages: Annotated[list,add_messages]"
   ],
   "outputs": [],
   "execution_count": 48
  },
  {
   "metadata": {
    "ExecuteTime": {
     "end_time": "2025-08-02T15:09:17.225656Z",
     "start_time": "2025-08-02T15:09:17.221949Z"
    }
   },
   "cell_type": "code",
   "source": [
    "def chatbot(state: State) -> State:\n",
    "    return {\"messages\":[llm.invoke(state[\"messages\"])]}"
   ],
   "id": "8a44d9fc5bb92b7",
   "outputs": [],
   "execution_count": 49
  },
  {
   "metadata": {
    "ExecuteTime": {
     "end_time": "2025-08-02T15:09:17.259011Z",
     "start_time": "2025-08-02T15:09:17.255633Z"
    }
   },
   "cell_type": "code",
   "source": [
    "from langgraph.graph import StateGraph, START, END\n",
    "builder = StateGraph(State)\n",
    "\n",
    "builder.add_node('chatbot_node', chatbot)\n",
    "\n",
    "builder.add_edge(START, 'chatbot_node')\n",
    "builder.add_edge('chatbot_node', END)\n",
    "\n",
    "graph = builder.compile()"
   ],
   "id": "65ceb474a2993ca4",
   "outputs": [],
   "execution_count": 50
  },
  {
   "metadata": {
    "ExecuteTime": {
     "end_time": "2025-08-02T15:23:44.261608Z",
     "start_time": "2025-08-02T15:23:11.037123Z"
    }
   },
   "cell_type": "code",
   "source": [
    "state = None\n",
    "\n",
    "while True:\n",
    "    in_message = input(\"Provide input\")\n",
    "    if in_message.lower() in {\"quit\", \"exit\"}:\n",
    "        break\n",
    "    if state is None:\n",
    "        state = {\"messages\": [ { \"role\":\"user\", \"content\":in_message}]}\n",
    "    else:\n",
    "        state[\"messages\"].append({\"role\":\"user\", \"content\":in_message})\n",
    "\n",
    "    response = graph.invoke(state)\n",
    "    print(response[\"messages\"][-1].content)"
   ],
   "id": "5615f24145b3e2a",
   "outputs": [
    {
     "name": "stdout",
     "output_type": "stream",
     "text": [
      "As a conversational AI, I don't have direct access to real-time market data. However, I can suggest some ways for you to get the current stock price of Reliance:\n",
      "\n",
      "1. Check online stock market websites: You can visit reputable financial websites like NSE (National Stock Exchange), BSE (Bombay Stock Exchange), or Bloomberg to find the current stock price of Reliance Industries Ltd.\n",
      "2. Use a financial app: Many financial apps, such as Moneycontrol, Sharekhan, or Angel One, provide real-time market data and allow you to track the performance of various stocks, including Reliance.\n",
      "3. Check the company's official website: You can also visit Reliance Industries' official website (www.reliance.com) to find information on their stock price.\n",
      "\n",
      "Please note that the current stock price may vary depending on market conditions, trading volumes, and other factors.\n"
     ]
    }
   ],
   "execution_count": 56
  },
  {
   "metadata": {},
   "cell_type": "code",
   "outputs": [],
   "execution_count": null,
   "source": "",
   "id": "bcea20bdd720a936"
  }
 ],
 "metadata": {
  "kernelspec": {
   "display_name": "Python 3",
   "language": "python",
   "name": "python3"
  },
  "language_info": {
   "codemirror_mode": {
    "name": "ipython",
    "version": 2
   },
   "file_extension": ".py",
   "mimetype": "text/x-python",
   "name": "python",
   "nbconvert_exporter": "python",
   "pygments_lexer": "ipython2",
   "version": "2.7.6"
  }
 },
 "nbformat": 4,
 "nbformat_minor": 5
}
