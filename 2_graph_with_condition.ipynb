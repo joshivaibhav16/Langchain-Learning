{
 "cells": [
  {
   "cell_type": "code",
   "id": "initial_id",
   "metadata": {
    "collapsed": true,
    "ExecuteTime": {
     "end_time": "2025-08-02T11:59:05.330352Z",
     "start_time": "2025-08-02T11:59:05.325151Z"
    }
   },
   "source": [
    "from typing import TypedDict\n",
    "\n",
    "class PortfolioState(TypedDict):\n",
    "    amount_usd: float\n",
    "    total_usd: float\n",
    "    total_inr: float\n",
    "    total_eur: float\n",
    "    currency: str"
   ],
   "outputs": [],
   "execution_count": 2
  },
  {
   "metadata": {
    "ExecuteTime": {
     "end_time": "2025-08-02T11:59:06.668475Z",
     "start_time": "2025-08-02T11:59:06.663472Z"
    }
   },
   "cell_type": "code",
   "source": [
    "def calculate_portfolio(state: PortfolioState) -> PortfolioState:\n",
    "    state['total_usd'] = state['amount_usd'] * 1.08\n",
    "    return state\n",
    "\n",
    "def convert_usd_to_inr(state: PortfolioState) -> PortfolioState:\n",
    "    state['total_inr'] = state['total_usd'] * 85\n",
    "    return state\n",
    "\n",
    "def convert_usd_to_eur(state: PortfolioState) -> PortfolioState:\n",
    "    state['total_eur'] = state['total_usd'] * 0.9\n",
    "    return state\n",
    "\n",
    "def choose_conversion(state: PortfolioState) -> str:\n",
    "    return state['currency']\n"
   ],
   "id": "dcea7c17faef4ad",
   "outputs": [],
   "execution_count": 3
  },
  {
   "metadata": {
    "ExecuteTime": {
     "end_time": "2025-08-02T12:03:56.260583Z",
     "start_time": "2025-08-02T12:03:56.251846Z"
    }
   },
   "cell_type": "code",
   "source": [
    "from langgraph.graph import StateGraph, START, END\n",
    "\n",
    "builder = StateGraph(PortfolioState)\n",
    "\n",
    "builder.add_node('calculate_portfolio', calculate_portfolio)\n",
    "builder.add_node('convert_usd_to_inr', convert_usd_to_inr)\n",
    "builder.add_node('convert_usd_to_eur', convert_usd_to_eur)\n",
    "\n",
    "builder.add_edge(START, 'calculate_portfolio')\n",
    "builder.add_conditional_edges('calculate_portfolio', choose_conversion, {\n",
    "    'INR': 'convert_usd_to_inr',\n",
    "    'EUR': 'convert_usd_to_eur',\n",
    "})\n",
    "builder.add_edge(['convert_usd_to_eur', 'convert_usd_to_inr'], END)\n",
    "\n",
    "graph = builder.compile()"
   ],
   "id": "3a4a70e905b9e0ab",
   "outputs": [],
   "execution_count": 8
  },
  {
   "metadata": {
    "ExecuteTime": {
     "end_time": "2025-08-02T12:00:09.696147Z",
     "start_time": "2025-08-02T12:00:09.680501Z"
    }
   },
   "cell_type": "code",
   "source": "graph.invoke({'amount_usd':1000, 'currency':'INR'})",
   "id": "546efbc2877aae54",
   "outputs": [
    {
     "data": {
      "text/plain": [
       "{'amount_usd': 1000,\n",
       " 'total_usd': 1080.0,\n",
       " 'total_inr': 91800.0,\n",
       " 'currency': 'INR'}"
      ]
     },
     "execution_count": 6,
     "metadata": {},
     "output_type": "execute_result"
    }
   ],
   "execution_count": 6
  },
  {
   "metadata": {
    "ExecuteTime": {
     "end_time": "2025-08-02T12:00:26.255910Z",
     "start_time": "2025-08-02T12:00:26.247696Z"
    }
   },
   "cell_type": "code",
   "source": "graph.invoke({'amount_usd':1000, 'currency':'EUR'})",
   "id": "d5a30438e4e06a93",
   "outputs": [
    {
     "data": {
      "text/plain": [
       "{'amount_usd': 1000,\n",
       " 'total_usd': 1080.0,\n",
       " 'total_eur': 972.0,\n",
       " 'currency': 'EUR'}"
      ]
     },
     "execution_count": 7,
     "metadata": {},
     "output_type": "execute_result"
    }
   ],
   "execution_count": 7
  }
 ],
 "metadata": {
  "kernelspec": {
   "display_name": "Python 3",
   "language": "python",
   "name": "python3"
  },
  "language_info": {
   "codemirror_mode": {
    "name": "ipython",
    "version": 2
   },
   "file_extension": ".py",
   "mimetype": "text/x-python",
   "name": "python",
   "nbconvert_exporter": "python",
   "pygments_lexer": "ipython2",
   "version": "2.7.6"
  }
 },
 "nbformat": 4,
 "nbformat_minor": 5
}
