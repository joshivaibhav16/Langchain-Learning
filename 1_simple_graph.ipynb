{
 "cells": [
  {
   "cell_type": "code",
   "id": "initial_id",
   "metadata": {
    "collapsed": true,
    "ExecuteTime": {
     "end_time": "2025-08-02T11:53:31.373534Z",
     "start_time": "2025-08-02T11:53:31.369214Z"
    }
   },
   "source": [
    "from typing import TypedDict\n",
    "\n",
    "class PortfolioState(TypedDict):\n",
    "    amount_usd: float\n",
    "    total_usd: float\n",
    "    total_inr: float"
   ],
   "outputs": [],
   "execution_count": 20
  },
  {
   "metadata": {
    "ExecuteTime": {
     "end_time": "2025-08-02T11:49:19.577124Z",
     "start_time": "2025-08-02T11:49:19.573881Z"
    }
   },
   "cell_type": "code",
   "source": [
    "def calculate_portfolio(state: PortfolioState) -> PortfolioState:\n",
    "    state['total_usd'] = state['amount_usd'] * 1.08\n",
    "    return state\n",
    "\n",
    "def convert_usd_to_inr(state: PortfolioState) -> PortfolioState:\n",
    "    state['total_inr'] = state['total_usd'] * 85\n",
    "    return state"
   ],
   "id": "dcea7c17faef4ad",
   "outputs": [],
   "execution_count": 17
  },
  {
   "metadata": {
    "ExecuteTime": {
     "end_time": "2025-08-02T11:49:19.590522Z",
     "start_time": "2025-08-02T11:49:19.587478Z"
    }
   },
   "cell_type": "code",
   "source": [
    "from langgraph.graph import StateGraph, START, END\n",
    "\n",
    "builder = StateGraph(PortfolioState)\n",
    "\n",
    "builder.add_node('calculate_portfolio', calculate_portfolio)\n",
    "builder.add_node('convert_usd_to_inr', convert_usd_to_inr)\n",
    "\n",
    "builder.add_edge(START, 'calculate_portfolio')\n",
    "builder.add_edge('calculate_portfolio', 'convert_usd_to_inr')\n",
    "builder.add_edge('convert_usd_to_inr', END)\n",
    "\n",
    "graph = builder.compile()"
   ],
   "id": "3a4a70e905b9e0ab",
   "outputs": [],
   "execution_count": 18
  },
  {
   "metadata": {
    "ExecuteTime": {
     "end_time": "2025-08-02T11:49:19.634896Z",
     "start_time": "2025-08-02T11:49:19.603336Z"
    }
   },
   "cell_type": "code",
   "source": "graph.invoke({'amount_usd':1000})",
   "id": "546efbc2877aae54",
   "outputs": [
    {
     "data": {
      "text/plain": [
       "{'amount_usd': 1000, 'total_usd': 1080.0, 'total_inr': 91800.0}"
      ]
     },
     "execution_count": 19,
     "metadata": {},
     "output_type": "execute_result"
    }
   ],
   "execution_count": 19
  }
 ],
 "metadata": {
  "kernelspec": {
   "display_name": "Python 3",
   "language": "python",
   "name": "python3"
  },
  "language_info": {
   "codemirror_mode": {
    "name": "ipython",
    "version": 2
   },
   "file_extension": ".py",
   "mimetype": "text/x-python",
   "name": "python",
   "nbconvert_exporter": "python",
   "pygments_lexer": "ipython2",
   "version": "2.7.6"
  }
 },
 "nbformat": 4,
 "nbformat_minor": 5
}
